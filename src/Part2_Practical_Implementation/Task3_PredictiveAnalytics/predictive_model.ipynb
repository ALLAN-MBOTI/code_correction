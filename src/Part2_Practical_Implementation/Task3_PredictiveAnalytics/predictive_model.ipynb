{
  "cells": [
    {
      "cell_type": "markdown",
      "metadata": {},
      "source": [
        "# Predictive Analytics for Resource Allocation\n\nThis notebook loads the Breast Cancer dataset, preprocesses it, trains a RandomForest classifier, and evaluates accuracy and F1-score."
      ]
    },
    {
      "cell_type": "code",
      "metadata": {},
      "source": [
        "import pandas as pd\nfrom sklearn.model_selection import train_test_split\nfrom sklearn.ensemble import RandomForestClassifier\nfrom sklearn.metrics import accuracy_score, f1_score\n\n# Load data (adjust path if needed)\ndf = pd.read_csv('breast_cancer_data.csv')\ndf.dropna(inplace=True)\nX = df.drop('diagnosis', axis=1)\ny = df['diagnosis'].map({'M':'High','B':'Low'})\nX_train, X_test, y_train, y_test = train_test_split(X, y, test_size=0.2, random_state=42)\nmodel = RandomForestClassifier(n_estimators=100, random_state=42)\nmodel.fit(X_train, y_train)\ny_pred = model.predict(X_test)\nprint('Accuracy:', accuracy_score(y_test, y_pred))\nprint('F1 score:', f1_score(y_test, y_pred, average='weighted'))\n"
      ],
      "execution_count": null,
      "outputs": []
    }
  ],
  "metadata": {
    "kernelspec": {
      "display_name": "Python 3",
      "language": "python",
      "name": "python3"
    },
    "language_info": {
      "name": "python"
    }
  },
  "nbformat": 4,
  "nbformat_minor": 2
}